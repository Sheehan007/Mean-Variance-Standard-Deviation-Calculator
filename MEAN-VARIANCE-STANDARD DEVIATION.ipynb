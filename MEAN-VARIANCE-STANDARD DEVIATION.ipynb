{
 "cells": [
  {
   "cell_type": "code",
   "execution_count": 3,
   "metadata": {},
   "outputs": [],
   "source": [
    "# PROJECT-1\n",
    "# MEAN-VARIANCE-STANDARD DEVIATION\n",
    "\n",
    "import numpy as np\n",
    "\n",
    "def calculate(list):\n",
    "    if len (list) == 9:\n",
    "        \n",
    "        array_1 = np.array(list)\n",
    "        array = array_1.np.reshape(3,3)\n",
    "        print (array)\n",
    "        \n",
    "        calculations = {\n",
    "            'mean' : [np.mean(array, axis=0).tolist(),\n",
    "                      np.mean(array, axis=1).tolist(), \n",
    "                      np.mean(array)],\n",
    "            \n",
    "            'variance' : [np.var(array, axis=0).tolist(),\n",
    "                          np.var(array, axis=1).tolist(),\n",
    "                          np.var(array.flatten())],\n",
    "            \n",
    "            'standard deviation' : [np.std(array, axis=0).tolist(),\n",
    "                                    np.std(array, axis=1).tolist(), \n",
    "                                    np.std(array.flatten())],\n",
    "            \n",
    "            'max' : [np.max(array, axis=0).tolist(),\n",
    "                     np.max(array, axis=1).tolist(), \n",
    "                     np.max(array.flatten())],\n",
    "            \n",
    "            'min' : [np.min(array, axis=0).tolist(),\n",
    "                     np.min(array, axis=1).tolist(), \n",
    "                     np.min(array.flatten())],\n",
    "            \n",
    "            'sum' : [np.sum(array, axis=0).tolist(),\n",
    "                     np.sum(array, axis=1).tolist(), \n",
    "                     np.sum(array.flatten())]\n",
    "        }\n",
    "    else:\n",
    "        raise ValueError('List must contain nine numbers')\n",
    "    \n",
    "    return calculations"
   ]
  }
 ],
 "metadata": {
  "kernelspec": {
   "display_name": "Python 3",
   "language": "python",
   "name": "python3"
  },
  "language_info": {
   "codemirror_mode": {
    "name": "ipython",
    "version": 3
   },
   "file_extension": ".py",
   "mimetype": "text/x-python",
   "name": "python",
   "nbconvert_exporter": "python",
   "pygments_lexer": "ipython3",
   "version": "3.7.9"
  }
 },
 "nbformat": 4,
 "nbformat_minor": 4
}
